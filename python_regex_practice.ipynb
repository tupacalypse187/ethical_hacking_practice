{
 "cells": [
  {
   "cell_type": "code",
   "execution_count": 1,
   "metadata": {},
   "outputs": [
    {
     "name": "stdout",
     "output_type": "stream",
     "text": [
      "Python 3.7.6\n"
     ]
    }
   ],
   "source": [
    "!python --version"
   ]
  },
  {
   "cell_type": "code",
   "execution_count": 2,
   "metadata": {},
   "outputs": [],
   "source": [
    "import re, os, sys, path\n",
    "from collections import Counter"
   ]
  },
  {
   "cell_type": "code",
   "execution_count": 3,
   "metadata": {},
   "outputs": [],
   "source": [
    "phoneNumRE = re.compile(r\"\\d{3}-\\d{3}-\\d{4}\")\n",
    "IpRE = re.compile(r\"^(\\d{1,3}\\.\\d{1,3}\\.\\d{1,3}\\.\\d{1,3}):(\\d{1,5}).*(\\d{1,3}\\.\\d{1,3}\\.\\d{1,3}\\.\\d{1,3}):(\\d{1,5})\", re.M)"
   ]
  },
  {
   "cell_type": "code",
   "execution_count": 4,
   "metadata": {},
   "outputs": [],
   "source": [
    "someText = \"\"\"\n",
    "415-555-4242\n",
    "Harry Potter\n",
    "10.140.120.11:4423 --> 192.12.232.123:80\n",
    "10.140.120.231:80 --> 192.24.354.325:80\n",
    "10.140.120.432:443 --> 124.24.232.543:443\n",
    "10.140.120.11:4423 --> 192.12.232.123:3214\n",
    "10.140.120.11:8080 --> 12.123.543.2:80\n",
    "212-435-4563\n",
    "415-555-4242\n",
    "415-555-4242\n",
    "\"\"\""
   ]
  },
  {
   "cell_type": "code",
   "execution_count": 5,
   "metadata": {},
   "outputs": [
    {
     "data": {
      "text/plain": [
       "4"
      ]
     },
     "execution_count": 5,
     "metadata": {},
     "output_type": "execute_result"
    }
   ],
   "source": [
    "len(phoneNumRE.findall(someText))"
   ]
  },
  {
   "cell_type": "code",
   "execution_count": 6,
   "metadata": {},
   "outputs": [
    {
     "data": {
      "text/plain": [
       "4"
      ]
     },
     "execution_count": 6,
     "metadata": {},
     "output_type": "execute_result"
    }
   ],
   "source": [
    "phoneResults = phoneNumRE.findall(someText)\n",
    "len(phoneResults)"
   ]
  },
  {
   "cell_type": "code",
   "execution_count": 7,
   "metadata": {},
   "outputs": [
    {
     "name": "stdout",
     "output_type": "stream",
     "text": [
      "Counter({'415-555-4242': 3, '212-435-4563': 1})\n"
     ]
    }
   ],
   "source": [
    "c = Counter(phoneResults)\n",
    "print(c)"
   ]
  },
  {
   "cell_type": "code",
   "execution_count": 8,
   "metadata": {},
   "outputs": [
    {
     "name": "stdout",
     "output_type": "stream",
     "text": [
      "415-555-4242 3\n"
     ]
    }
   ],
   "source": [
    "for (k,v) in c.items():\n",
    "    if v > 1:\n",
    "        print(k,v)"
   ]
  },
  {
   "cell_type": "code",
   "execution_count": 9,
   "metadata": {},
   "outputs": [
    {
     "data": {
      "text/plain": [
       "{'415-555-4242': 3}"
      ]
     },
     "execution_count": 9,
     "metadata": {},
     "output_type": "execute_result"
    }
   ],
   "source": [
    "{k:v for (k,v) in c.items() if v > 1}"
   ]
  },
  {
   "cell_type": "code",
   "execution_count": 29,
   "metadata": {},
   "outputs": [
    {
     "name": "stdout",
     "output_type": "stream",
     "text": [
      "['415-555-4242\\n', 'Harry Potter\\n', '10.140.120.11:4423 --> 192.12.232.123:80\\n', '10.140.120.231:80 --> 192.24.354.325:80\\n', '10.140.120.432:443 --> 124.24.232.543:443\\n', '10.140.120.11:4423 --> 192.12.232.123:3214\\n', '10.140.120.11:8080 --> 12.123.543.2:80\\n', '10.140.120.231:80 --> 192.24.354.325:80\\n', '212-435-4563\\n', '415-555-4242\\n', '415-555-4242']\n"
     ]
    }
   ],
   "source": [
    "with open(\"python_automation/regex_file.txt\", \"r\") as f:\n",
    "    print(f.readlines())"
   ]
  },
  {
   "cell_type": "code",
   "execution_count": null,
   "metadata": {},
   "outputs": [],
   "source": []
  }
 ],
 "metadata": {
  "kernelspec": {
   "display_name": "Python 3",
   "language": "python",
   "name": "python3"
  },
  "language_info": {
   "codemirror_mode": {
    "name": "ipython",
    "version": 3
   },
   "file_extension": ".py",
   "mimetype": "text/x-python",
   "name": "python",
   "nbconvert_exporter": "python",
   "pygments_lexer": "ipython3",
   "version": "3.7.6"
  }
 },
 "nbformat": 4,
 "nbformat_minor": 4
}
